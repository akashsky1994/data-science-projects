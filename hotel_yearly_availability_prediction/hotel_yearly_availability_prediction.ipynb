{
  "cells": [
    {
      "cell_type": "markdown",
      "metadata": {
        "id": "view-in-github",
        "colab_type": "text"
      },
      "source": [
        "<a href=\"https://colab.research.google.com/github/akashsky1994/data-science-projects/blob/main/hotel_yearly_availability_prediction/hotel_yearly_availability_prediction.ipynb\" target=\"_parent\"><img src=\"https://colab.research.google.com/assets/colab-badge.svg\" alt=\"Open In Colab\"/></a>"
      ]
    },
    {
      "cell_type": "markdown",
      "metadata": {
        "id": "x_BkOtqBIKQz"
      },
      "source": [
        "# Data Science Challenge"
      ]
    },
    {
      "cell_type": "code",
      "execution_count": null,
      "metadata": {
        "colab": {
          "base_uri": "https://localhost:8080/"
        },
        "id": "U_VthdACIKQ6",
        "outputId": "e6878c26-26aa-4f80-96ed-d8cd1ac2373d"
      },
      "outputs": [
        {
          "output_type": "stream",
          "name": "stdout",
          "text": [
            "Requirement already satisfied: scikit-learn in /usr/local/lib/python3.7/dist-packages (1.0.2)\n",
            "Requirement already satisfied: joblib>=0.11 in /usr/local/lib/python3.7/dist-packages (from scikit-learn) (1.1.0)\n",
            "Requirement already satisfied: numpy>=1.14.6 in /usr/local/lib/python3.7/dist-packages (from scikit-learn) (1.21.5)\n",
            "Requirement already satisfied: threadpoolctl>=2.0.0 in /usr/local/lib/python3.7/dist-packages (from scikit-learn) (3.1.0)\n",
            "Requirement already satisfied: scipy>=1.1.0 in /usr/local/lib/python3.7/dist-packages (from scikit-learn) (1.4.1)\n"
          ]
        }
      ],
      "source": [
        "# To install packages that are not installed by default, uncomment the last two lines \n",
        "# of this cell and replace <package list> with a list of necessary packages.\n",
        "# This will ensure the notebook has all the dependencies and works everywhere.\n",
        "\n",
        "import sys\n",
        "!{sys.executable} -m pip install scikit-learn"
      ]
    },
    {
      "cell_type": "code",
      "execution_count": null,
      "metadata": {
        "id": "VzGFUCCVIKRL"
      },
      "outputs": [],
      "source": [
        "#Libraries\n",
        "import pandas as pd\n",
        "import numpy as np\n",
        "import matplotlib.pyplot as plt\n",
        "pd.set_option(\"display.max_columns\", 101)"
      ]
    },
    {
      "cell_type": "markdown",
      "metadata": {
        "id": "TZ23KNY8IKRT"
      },
      "source": [
        "## Data Description"
      ]
    },
    {
      "cell_type": "markdown",
      "metadata": {
        "id": "jWSkqquEIKRW"
      },
      "source": [
        "Column | Description\n",
        ":---|:---\n",
        "`id` | The unique ID assigned to every hotel.\n",
        "`region` | The region in which the hotel is located..\n",
        "`latitude` | The latitude of the hotel.\n",
        "`longitude` | The longitude of the hotel.\n",
        "`accommodation_type` | The type of accommodation offered by the hotel. For example: Private room, Entire house/apt, etc.\n",
        "`cost` | The cost of booking the hotel for one night. (in \\$\\$)\n",
        "`minimum_nights` | The minimum number of nights stay required.\n",
        "`number_of_reviews` | The number of reviews accumulated by the hotel.\n",
        "`reviews_per_month` | The average number of reviews received by the hotel per month.\n",
        "`owner_id` | The unique ID assigned to every owner. An owner can own multiple hotels.\n",
        "`owned_hotels` | The number of hotels owned by the owner.\n",
        "`yearly_availability` | It indicates if the hotel accepts bookings around the year. Values are 0 (not available for 365 days in a year) and 1 (available for 365 days in a year)."
      ]
    },
    {
      "cell_type": "markdown",
      "metadata": {
        "id": "BWQqx7cSIKRX"
      },
      "source": [
        "## Data Wrangling & Visualization"
      ]
    },
    {
      "cell_type": "code",
      "execution_count": null,
      "metadata": {
        "id": "SsjL7tf7IKRc"
      },
      "outputs": [],
      "source": [
        "# Dataset is already loaded below\n",
        "data = pd.read_csv(\"train.csv\")"
      ]
    },
    {
      "cell_type": "code",
      "execution_count": null,
      "metadata": {
        "colab": {
          "base_uri": "https://localhost:8080/",
          "height": 270
        },
        "id": "kzuHtZEkIKRh",
        "outputId": "da1102c3-40ba-4fcf-c8d0-e77972be9666"
      },
      "outputs": [
        {
          "output_type": "execute_result",
          "data": {
            "text/html": [
              "\n",
              "  <div id=\"df-07f44b8d-b54b-4545-8378-84367ce01d53\">\n",
              "    <div class=\"colab-df-container\">\n",
              "      <div>\n",
              "<style scoped>\n",
              "    .dataframe tbody tr th:only-of-type {\n",
              "        vertical-align: middle;\n",
              "    }\n",
              "\n",
              "    .dataframe tbody tr th {\n",
              "        vertical-align: top;\n",
              "    }\n",
              "\n",
              "    .dataframe thead th {\n",
              "        text-align: right;\n",
              "    }\n",
              "</style>\n",
              "<table border=\"1\" class=\"dataframe\">\n",
              "  <thead>\n",
              "    <tr style=\"text-align: right;\">\n",
              "      <th></th>\n",
              "      <th>id</th>\n",
              "      <th>region</th>\n",
              "      <th>latitude</th>\n",
              "      <th>longitude</th>\n",
              "      <th>accommodation_type</th>\n",
              "      <th>cost</th>\n",
              "      <th>minimum_nights</th>\n",
              "      <th>number_of_reviews</th>\n",
              "      <th>reviews_per_month</th>\n",
              "      <th>owner_id</th>\n",
              "      <th>owned_hotels</th>\n",
              "      <th>yearly_availability</th>\n",
              "    </tr>\n",
              "  </thead>\n",
              "  <tbody>\n",
              "    <tr>\n",
              "      <th>0</th>\n",
              "      <td>13232</td>\n",
              "      <td>Manhattan</td>\n",
              "      <td>40.71854</td>\n",
              "      <td>-74.00439</td>\n",
              "      <td>Entire home/apt</td>\n",
              "      <td>170</td>\n",
              "      <td>5</td>\n",
              "      <td>7</td>\n",
              "      <td>0.56</td>\n",
              "      <td>929983</td>\n",
              "      <td>1</td>\n",
              "      <td>0</td>\n",
              "    </tr>\n",
              "    <tr>\n",
              "      <th>1</th>\n",
              "      <td>246</td>\n",
              "      <td>Brooklyn</td>\n",
              "      <td>40.64446</td>\n",
              "      <td>-73.95030</td>\n",
              "      <td>Entire home/apt</td>\n",
              "      <td>65</td>\n",
              "      <td>3</td>\n",
              "      <td>238</td>\n",
              "      <td>2.30</td>\n",
              "      <td>281764</td>\n",
              "      <td>1</td>\n",
              "      <td>0</td>\n",
              "    </tr>\n",
              "    <tr>\n",
              "      <th>2</th>\n",
              "      <td>19091</td>\n",
              "      <td>Queens</td>\n",
              "      <td>40.78573</td>\n",
              "      <td>-73.81062</td>\n",
              "      <td>Private room</td>\n",
              "      <td>85</td>\n",
              "      <td>1</td>\n",
              "      <td>0</td>\n",
              "      <td>NaN</td>\n",
              "      <td>19923341</td>\n",
              "      <td>1</td>\n",
              "      <td>1</td>\n",
              "    </tr>\n",
              "    <tr>\n",
              "      <th>3</th>\n",
              "      <td>34305</td>\n",
              "      <td>Manhattan</td>\n",
              "      <td>40.73863</td>\n",
              "      <td>-73.98002</td>\n",
              "      <td>Private room</td>\n",
              "      <td>210</td>\n",
              "      <td>30</td>\n",
              "      <td>0</td>\n",
              "      <td>NaN</td>\n",
              "      <td>200380610</td>\n",
              "      <td>65</td>\n",
              "      <td>1</td>\n",
              "    </tr>\n",
              "    <tr>\n",
              "      <th>4</th>\n",
              "      <td>444</td>\n",
              "      <td>Manhattan</td>\n",
              "      <td>40.82426</td>\n",
              "      <td>-73.94630</td>\n",
              "      <td>Shared room</td>\n",
              "      <td>75</td>\n",
              "      <td>3</td>\n",
              "      <td>38</td>\n",
              "      <td>0.42</td>\n",
              "      <td>745069</td>\n",
              "      <td>3</td>\n",
              "      <td>1</td>\n",
              "    </tr>\n",
              "  </tbody>\n",
              "</table>\n",
              "</div>\n",
              "      <button class=\"colab-df-convert\" onclick=\"convertToInteractive('df-07f44b8d-b54b-4545-8378-84367ce01d53')\"\n",
              "              title=\"Convert this dataframe to an interactive table.\"\n",
              "              style=\"display:none;\">\n",
              "        \n",
              "  <svg xmlns=\"http://www.w3.org/2000/svg\" height=\"24px\"viewBox=\"0 0 24 24\"\n",
              "       width=\"24px\">\n",
              "    <path d=\"M0 0h24v24H0V0z\" fill=\"none\"/>\n",
              "    <path d=\"M18.56 5.44l.94 2.06.94-2.06 2.06-.94-2.06-.94-.94-2.06-.94 2.06-2.06.94zm-11 1L8.5 8.5l.94-2.06 2.06-.94-2.06-.94L8.5 2.5l-.94 2.06-2.06.94zm10 10l.94 2.06.94-2.06 2.06-.94-2.06-.94-.94-2.06-.94 2.06-2.06.94z\"/><path d=\"M17.41 7.96l-1.37-1.37c-.4-.4-.92-.59-1.43-.59-.52 0-1.04.2-1.43.59L10.3 9.45l-7.72 7.72c-.78.78-.78 2.05 0 2.83L4 21.41c.39.39.9.59 1.41.59.51 0 1.02-.2 1.41-.59l7.78-7.78 2.81-2.81c.8-.78.8-2.07 0-2.86zM5.41 20L4 18.59l7.72-7.72 1.47 1.35L5.41 20z\"/>\n",
              "  </svg>\n",
              "      </button>\n",
              "      \n",
              "  <style>\n",
              "    .colab-df-container {\n",
              "      display:flex;\n",
              "      flex-wrap:wrap;\n",
              "      gap: 12px;\n",
              "    }\n",
              "\n",
              "    .colab-df-convert {\n",
              "      background-color: #E8F0FE;\n",
              "      border: none;\n",
              "      border-radius: 50%;\n",
              "      cursor: pointer;\n",
              "      display: none;\n",
              "      fill: #1967D2;\n",
              "      height: 32px;\n",
              "      padding: 0 0 0 0;\n",
              "      width: 32px;\n",
              "    }\n",
              "\n",
              "    .colab-df-convert:hover {\n",
              "      background-color: #E2EBFA;\n",
              "      box-shadow: 0px 1px 2px rgba(60, 64, 67, 0.3), 0px 1px 3px 1px rgba(60, 64, 67, 0.15);\n",
              "      fill: #174EA6;\n",
              "    }\n",
              "\n",
              "    [theme=dark] .colab-df-convert {\n",
              "      background-color: #3B4455;\n",
              "      fill: #D2E3FC;\n",
              "    }\n",
              "\n",
              "    [theme=dark] .colab-df-convert:hover {\n",
              "      background-color: #434B5C;\n",
              "      box-shadow: 0px 1px 3px 1px rgba(0, 0, 0, 0.15);\n",
              "      filter: drop-shadow(0px 1px 2px rgba(0, 0, 0, 0.3));\n",
              "      fill: #FFFFFF;\n",
              "    }\n",
              "  </style>\n",
              "\n",
              "      <script>\n",
              "        const buttonEl =\n",
              "          document.querySelector('#df-07f44b8d-b54b-4545-8378-84367ce01d53 button.colab-df-convert');\n",
              "        buttonEl.style.display =\n",
              "          google.colab.kernel.accessAllowed ? 'block' : 'none';\n",
              "\n",
              "        async function convertToInteractive(key) {\n",
              "          const element = document.querySelector('#df-07f44b8d-b54b-4545-8378-84367ce01d53');\n",
              "          const dataTable =\n",
              "            await google.colab.kernel.invokeFunction('convertToInteractive',\n",
              "                                                     [key], {});\n",
              "          if (!dataTable) return;\n",
              "\n",
              "          const docLinkHtml = 'Like what you see? Visit the ' +\n",
              "            '<a target=\"_blank\" href=https://colab.research.google.com/notebooks/data_table.ipynb>data table notebook</a>'\n",
              "            + ' to learn more about interactive tables.';\n",
              "          element.innerHTML = '';\n",
              "          dataTable['output_type'] = 'display_data';\n",
              "          await google.colab.output.renderOutput(dataTable, element);\n",
              "          const docLink = document.createElement('div');\n",
              "          docLink.innerHTML = docLinkHtml;\n",
              "          element.appendChild(docLink);\n",
              "        }\n",
              "      </script>\n",
              "    </div>\n",
              "  </div>\n",
              "  "
            ],
            "text/plain": [
              "      id     region  latitude  longitude accommodation_type  cost  \\\n",
              "0  13232  Manhattan  40.71854  -74.00439    Entire home/apt   170   \n",
              "1    246   Brooklyn  40.64446  -73.95030    Entire home/apt    65   \n",
              "2  19091     Queens  40.78573  -73.81062       Private room    85   \n",
              "3  34305  Manhattan  40.73863  -73.98002       Private room   210   \n",
              "4    444  Manhattan  40.82426  -73.94630        Shared room    75   \n",
              "\n",
              "   minimum_nights  number_of_reviews  reviews_per_month   owner_id  \\\n",
              "0               5                  7               0.56     929983   \n",
              "1               3                238               2.30     281764   \n",
              "2               1                  0                NaN   19923341   \n",
              "3              30                  0                NaN  200380610   \n",
              "4               3                 38               0.42     745069   \n",
              "\n",
              "   owned_hotels  yearly_availability  \n",
              "0             1                    0  \n",
              "1             1                    0  \n",
              "2             1                    1  \n",
              "3            65                    1  \n",
              "4             3                    1  "
            ]
          },
          "metadata": {},
          "execution_count": 201
        }
      ],
      "source": [
        "data.head()"
      ]
    },
    {
      "cell_type": "code",
      "execution_count": null,
      "metadata": {
        "colab": {
          "base_uri": "https://localhost:8080/"
        },
        "id": "0mhMZRlBIKRu",
        "outputId": "f736eb35-9ff7-4553-b683-e256229854e6"
      },
      "outputs": [
        {
          "output_type": "execute_result",
          "data": {
            "text/plain": [
              "Index(['id', 'region', 'latitude', 'longitude', 'accommodation_type', 'cost',\n",
              "       'minimum_nights', 'number_of_reviews', 'reviews_per_month', 'owner_id',\n",
              "       'owned_hotels', 'yearly_availability'],\n",
              "      dtype='object')"
            ]
          },
          "metadata": {},
          "execution_count": 202
        }
      ],
      "source": [
        "#Explore columns\n",
        "data.columns"
      ]
    },
    {
      "cell_type": "code",
      "execution_count": null,
      "metadata": {
        "colab": {
          "base_uri": "https://localhost:8080/",
          "height": 364
        },
        "id": "-SrTmyfJIKR1",
        "outputId": "96fb5300-9f97-4fe5-a482-948296661218"
      },
      "outputs": [
        {
          "output_type": "execute_result",
          "data": {
            "text/html": [
              "\n",
              "  <div id=\"df-2f478307-3c49-4ee1-bc4c-52be22b1238d\">\n",
              "    <div class=\"colab-df-container\">\n",
              "      <div>\n",
              "<style scoped>\n",
              "    .dataframe tbody tr th:only-of-type {\n",
              "        vertical-align: middle;\n",
              "    }\n",
              "\n",
              "    .dataframe tbody tr th {\n",
              "        vertical-align: top;\n",
              "    }\n",
              "\n",
              "    .dataframe thead th {\n",
              "        text-align: right;\n",
              "    }\n",
              "</style>\n",
              "<table border=\"1\" class=\"dataframe\">\n",
              "  <thead>\n",
              "    <tr style=\"text-align: right;\">\n",
              "      <th></th>\n",
              "      <th>id</th>\n",
              "      <th>latitude</th>\n",
              "      <th>longitude</th>\n",
              "      <th>cost</th>\n",
              "      <th>minimum_nights</th>\n",
              "      <th>number_of_reviews</th>\n",
              "      <th>reviews_per_month</th>\n",
              "      <th>owner_id</th>\n",
              "      <th>owned_hotels</th>\n",
              "      <th>yearly_availability</th>\n",
              "    </tr>\n",
              "  </thead>\n",
              "  <tbody>\n",
              "    <tr>\n",
              "      <th>count</th>\n",
              "      <td>2870.000000</td>\n",
              "      <td>2870.000000</td>\n",
              "      <td>2870.000000</td>\n",
              "      <td>2870.000000</td>\n",
              "      <td>2870.000000</td>\n",
              "      <td>2870.000000</td>\n",
              "      <td>2194.000000</td>\n",
              "      <td>2.870000e+03</td>\n",
              "      <td>2870.000000</td>\n",
              "      <td>2870.000000</td>\n",
              "    </tr>\n",
              "    <tr>\n",
              "      <th>mean</th>\n",
              "      <td>26760.657143</td>\n",
              "      <td>40.731224</td>\n",
              "      <td>-73.950158</td>\n",
              "      <td>195.943206</td>\n",
              "      <td>11.530314</td>\n",
              "      <td>16.315331</td>\n",
              "      <td>1.157502</td>\n",
              "      <td>7.202195e+07</td>\n",
              "      <td>8.411498</td>\n",
              "      <td>0.498606</td>\n",
              "    </tr>\n",
              "    <tr>\n",
              "      <th>std</th>\n",
              "      <td>14140.930062</td>\n",
              "      <td>0.054942</td>\n",
              "      <td>0.049745</td>\n",
              "      <td>406.184714</td>\n",
              "      <td>37.972339</td>\n",
              "      <td>32.481722</td>\n",
              "      <td>1.355028</td>\n",
              "      <td>8.076516e+07</td>\n",
              "      <td>27.105522</td>\n",
              "      <td>0.500085</td>\n",
              "    </tr>\n",
              "    <tr>\n",
              "      <th>min</th>\n",
              "      <td>0.000000</td>\n",
              "      <td>40.507080</td>\n",
              "      <td>-74.242850</td>\n",
              "      <td>10.000000</td>\n",
              "      <td>1.000000</td>\n",
              "      <td>0.000000</td>\n",
              "      <td>0.010000</td>\n",
              "      <td>2.787000e+03</td>\n",
              "      <td>1.000000</td>\n",
              "      <td>0.000000</td>\n",
              "    </tr>\n",
              "    <tr>\n",
              "      <th>25%</th>\n",
              "      <td>15931.750000</td>\n",
              "      <td>40.692463</td>\n",
              "      <td>-73.984003</td>\n",
              "      <td>75.000000</td>\n",
              "      <td>1.000000</td>\n",
              "      <td>1.000000</td>\n",
              "      <td>0.240000</td>\n",
              "      <td>7.388002e+06</td>\n",
              "      <td>1.000000</td>\n",
              "      <td>0.000000</td>\n",
              "    </tr>\n",
              "    <tr>\n",
              "      <th>50%</th>\n",
              "      <td>28946.500000</td>\n",
              "      <td>40.728250</td>\n",
              "      <td>-73.956720</td>\n",
              "      <td>120.000000</td>\n",
              "      <td>3.000000</td>\n",
              "      <td>4.000000</td>\n",
              "      <td>0.650000</td>\n",
              "      <td>3.352708e+07</td>\n",
              "      <td>1.000000</td>\n",
              "      <td>0.000000</td>\n",
              "    </tr>\n",
              "    <tr>\n",
              "      <th>75%</th>\n",
              "      <td>38478.500000</td>\n",
              "      <td>40.762658</td>\n",
              "      <td>-73.934202</td>\n",
              "      <td>200.000000</td>\n",
              "      <td>6.000000</td>\n",
              "      <td>16.000000</td>\n",
              "      <td>1.530000</td>\n",
              "      <td>1.207625e+08</td>\n",
              "      <td>3.000000</td>\n",
              "      <td>1.000000</td>\n",
              "    </tr>\n",
              "    <tr>\n",
              "      <th>max</th>\n",
              "      <td>48893.000000</td>\n",
              "      <td>40.898730</td>\n",
              "      <td>-73.721730</td>\n",
              "      <td>9999.000000</td>\n",
              "      <td>999.000000</td>\n",
              "      <td>395.000000</td>\n",
              "      <td>10.370000</td>\n",
              "      <td>2.738123e+08</td>\n",
              "      <td>327.000000</td>\n",
              "      <td>1.000000</td>\n",
              "    </tr>\n",
              "  </tbody>\n",
              "</table>\n",
              "</div>\n",
              "      <button class=\"colab-df-convert\" onclick=\"convertToInteractive('df-2f478307-3c49-4ee1-bc4c-52be22b1238d')\"\n",
              "              title=\"Convert this dataframe to an interactive table.\"\n",
              "              style=\"display:none;\">\n",
              "        \n",
              "  <svg xmlns=\"http://www.w3.org/2000/svg\" height=\"24px\"viewBox=\"0 0 24 24\"\n",
              "       width=\"24px\">\n",
              "    <path d=\"M0 0h24v24H0V0z\" fill=\"none\"/>\n",
              "    <path d=\"M18.56 5.44l.94 2.06.94-2.06 2.06-.94-2.06-.94-.94-2.06-.94 2.06-2.06.94zm-11 1L8.5 8.5l.94-2.06 2.06-.94-2.06-.94L8.5 2.5l-.94 2.06-2.06.94zm10 10l.94 2.06.94-2.06 2.06-.94-2.06-.94-.94-2.06-.94 2.06-2.06.94z\"/><path d=\"M17.41 7.96l-1.37-1.37c-.4-.4-.92-.59-1.43-.59-.52 0-1.04.2-1.43.59L10.3 9.45l-7.72 7.72c-.78.78-.78 2.05 0 2.83L4 21.41c.39.39.9.59 1.41.59.51 0 1.02-.2 1.41-.59l7.78-7.78 2.81-2.81c.8-.78.8-2.07 0-2.86zM5.41 20L4 18.59l7.72-7.72 1.47 1.35L5.41 20z\"/>\n",
              "  </svg>\n",
              "      </button>\n",
              "      \n",
              "  <style>\n",
              "    .colab-df-container {\n",
              "      display:flex;\n",
              "      flex-wrap:wrap;\n",
              "      gap: 12px;\n",
              "    }\n",
              "\n",
              "    .colab-df-convert {\n",
              "      background-color: #E8F0FE;\n",
              "      border: none;\n",
              "      border-radius: 50%;\n",
              "      cursor: pointer;\n",
              "      display: none;\n",
              "      fill: #1967D2;\n",
              "      height: 32px;\n",
              "      padding: 0 0 0 0;\n",
              "      width: 32px;\n",
              "    }\n",
              "\n",
              "    .colab-df-convert:hover {\n",
              "      background-color: #E2EBFA;\n",
              "      box-shadow: 0px 1px 2px rgba(60, 64, 67, 0.3), 0px 1px 3px 1px rgba(60, 64, 67, 0.15);\n",
              "      fill: #174EA6;\n",
              "    }\n",
              "\n",
              "    [theme=dark] .colab-df-convert {\n",
              "      background-color: #3B4455;\n",
              "      fill: #D2E3FC;\n",
              "    }\n",
              "\n",
              "    [theme=dark] .colab-df-convert:hover {\n",
              "      background-color: #434B5C;\n",
              "      box-shadow: 0px 1px 3px 1px rgba(0, 0, 0, 0.15);\n",
              "      filter: drop-shadow(0px 1px 2px rgba(0, 0, 0, 0.3));\n",
              "      fill: #FFFFFF;\n",
              "    }\n",
              "  </style>\n",
              "\n",
              "      <script>\n",
              "        const buttonEl =\n",
              "          document.querySelector('#df-2f478307-3c49-4ee1-bc4c-52be22b1238d button.colab-df-convert');\n",
              "        buttonEl.style.display =\n",
              "          google.colab.kernel.accessAllowed ? 'block' : 'none';\n",
              "\n",
              "        async function convertToInteractive(key) {\n",
              "          const element = document.querySelector('#df-2f478307-3c49-4ee1-bc4c-52be22b1238d');\n",
              "          const dataTable =\n",
              "            await google.colab.kernel.invokeFunction('convertToInteractive',\n",
              "                                                     [key], {});\n",
              "          if (!dataTable) return;\n",
              "\n",
              "          const docLinkHtml = 'Like what you see? Visit the ' +\n",
              "            '<a target=\"_blank\" href=https://colab.research.google.com/notebooks/data_table.ipynb>data table notebook</a>'\n",
              "            + ' to learn more about interactive tables.';\n",
              "          element.innerHTML = '';\n",
              "          dataTable['output_type'] = 'display_data';\n",
              "          await google.colab.output.renderOutput(dataTable, element);\n",
              "          const docLink = document.createElement('div');\n",
              "          docLink.innerHTML = docLinkHtml;\n",
              "          element.appendChild(docLink);\n",
              "        }\n",
              "      </script>\n",
              "    </div>\n",
              "  </div>\n",
              "  "
            ],
            "text/plain": [
              "                 id     latitude    longitude         cost  minimum_nights  \\\n",
              "count   2870.000000  2870.000000  2870.000000  2870.000000     2870.000000   \n",
              "mean   26760.657143    40.731224   -73.950158   195.943206       11.530314   \n",
              "std    14140.930062     0.054942     0.049745   406.184714       37.972339   \n",
              "min        0.000000    40.507080   -74.242850    10.000000        1.000000   \n",
              "25%    15931.750000    40.692463   -73.984003    75.000000        1.000000   \n",
              "50%    28946.500000    40.728250   -73.956720   120.000000        3.000000   \n",
              "75%    38478.500000    40.762658   -73.934202   200.000000        6.000000   \n",
              "max    48893.000000    40.898730   -73.721730  9999.000000      999.000000   \n",
              "\n",
              "       number_of_reviews  reviews_per_month      owner_id  owned_hotels  \\\n",
              "count        2870.000000        2194.000000  2.870000e+03   2870.000000   \n",
              "mean           16.315331           1.157502  7.202195e+07      8.411498   \n",
              "std            32.481722           1.355028  8.076516e+07     27.105522   \n",
              "min             0.000000           0.010000  2.787000e+03      1.000000   \n",
              "25%             1.000000           0.240000  7.388002e+06      1.000000   \n",
              "50%             4.000000           0.650000  3.352708e+07      1.000000   \n",
              "75%            16.000000           1.530000  1.207625e+08      3.000000   \n",
              "max           395.000000          10.370000  2.738123e+08    327.000000   \n",
              "\n",
              "       yearly_availability  \n",
              "count          2870.000000  \n",
              "mean              0.498606  \n",
              "std               0.500085  \n",
              "min               0.000000  \n",
              "25%               0.000000  \n",
              "50%               0.000000  \n",
              "75%               1.000000  \n",
              "max               1.000000  "
            ]
          },
          "metadata": {},
          "execution_count": 203
        }
      ],
      "source": [
        "#Description\n",
        "data.describe()"
      ]
    },
    {
      "cell_type": "markdown",
      "metadata": {
        "id": "EYgdCStSRSv8"
      },
      "source": [
        "## Data Wrangling"
      ]
    },
    {
      "cell_type": "markdown",
      "metadata": {
        "id": "eRMEGrzGRSv8"
      },
      "source": [
        "One Hot Encoding"
      ]
    },
    {
      "cell_type": "code",
      "execution_count": null,
      "metadata": {
        "colab": {
          "base_uri": "https://localhost:8080/"
        },
        "id": "HhzG7pYeRSv9",
        "outputId": "53b454f7-2cac-4035-fc17-38a88d1abc68"
      },
      "outputs": [
        {
          "output_type": "execute_result",
          "data": {
            "text/plain": [
              "array(['Manhattan', 'Brooklyn', 'Queens', 'Bronx', 'Staten Island'],\n",
              "      dtype=object)"
            ]
          },
          "metadata": {},
          "execution_count": 204
        }
      ],
      "source": [
        "data['region'].unique()"
      ]
    },
    {
      "cell_type": "code",
      "execution_count": null,
      "metadata": {
        "colab": {
          "base_uri": "https://localhost:8080/"
        },
        "id": "GrJq3J21RSv9",
        "outputId": "dd47169c-63de-41ed-8915-348c0641c360"
      },
      "outputs": [
        {
          "output_type": "execute_result",
          "data": {
            "text/plain": [
              "array(['Entire home/apt', 'Private room', 'Shared room'], dtype=object)"
            ]
          },
          "metadata": {},
          "execution_count": 205
        }
      ],
      "source": [
        "data['accommodation_type'].unique()"
      ]
    },
    {
      "cell_type": "code",
      "execution_count": null,
      "metadata": {
        "id": "Vel-7S7gIKR9"
      },
      "outputs": [],
      "source": [
        "# One Hot Encoding to generate necessary columns for each region since the region is a categorical data \n",
        "# Also since we have are seeing a limited number of places shown in the training and testing \n",
        "# i.e 5 boroughs of new york therefore it makes sense to do one hot encoding if there were too many regions\n",
        "# this would not worked as it would complicate the model \n",
        "data = pd.concat([data,pd.get_dummies(data['region'], prefix='region')],axis=1)\n",
        "\n",
        "\n",
        "\n",
        "# similarly for accomodation_type doing one hot encoding and adding the types as column\n",
        "data = pd.concat([data,pd.get_dummies(data['accommodation_type'])],axis=1)\n",
        "\n",
        "# dropping the region columns from the dataframe\n",
        "data.drop(['region','accommodation_type'],axis=1, inplace=True)"
      ]
    },
    {
      "cell_type": "code",
      "execution_count": null,
      "metadata": {
        "id": "hwo8bFV0RSv-"
      },
      "outputs": [],
      "source": [
        "# we can go ahead and remove id from the dataframe to anonymize the data and secondly we dont really\n",
        "# require the owner_id or id in the model itself\n",
        "data.drop(['id','owner_id'],axis=1, inplace=True)"
      ]
    },
    {
      "cell_type": "code",
      "execution_count": null,
      "metadata": {
        "colab": {
          "base_uri": "https://localhost:8080/"
        },
        "id": "fp1nvdh-IKSE",
        "outputId": "b95e2d14-1c98-4ea9-b8cd-5c0f05b30594"
      },
      "outputs": [
        {
          "output_type": "execute_result",
          "data": {
            "text/plain": [
              "latitude                False\n",
              "longitude               False\n",
              "cost                    False\n",
              "minimum_nights          False\n",
              "number_of_reviews       False\n",
              "reviews_per_month        True\n",
              "owned_hotels            False\n",
              "yearly_availability     False\n",
              "region_Bronx            False\n",
              "region_Brooklyn         False\n",
              "region_Manhattan        False\n",
              "region_Queens           False\n",
              "region_Staten Island    False\n",
              "Entire home/apt         False\n",
              "Private room            False\n",
              "Shared room             False\n",
              "dtype: bool"
            ]
          },
          "metadata": {},
          "execution_count": 208
        }
      ],
      "source": [
        "# Checking for columns with null values\n",
        "data.isnull().any()"
      ]
    },
    {
      "cell_type": "markdown",
      "metadata": {
        "id": "R0oKJb2qRSv-"
      },
      "source": [
        "#### Found reviews_per_month to only have null values. Now filling the null values with median. (Mean is quite sensitive outliers specially incases with review/ratings hence using median)"
      ]
    },
    {
      "cell_type": "code",
      "execution_count": null,
      "metadata": {
        "id": "px5KNTQ7IKSK"
      },
      "outputs": [],
      "source": [
        "# filling na values\n",
        "data['reviews_per_month'].fillna(data['reviews_per_month'].median(),inplace=True)"
      ]
    },
    {
      "cell_type": "markdown",
      "source": [
        "#### Geo Coordinates Column cannot be used as it is. Neither can they be ideally represented using stardardization. Clustering these geolocations into zones can help us get some relevant features.\n"
      ],
      "metadata": {
        "id": "3-mGYX7cZ_pi"
      }
    },
    {
      "cell_type": "code",
      "source": [
        "from sklearn.cluster import KMeans\n",
        "from sklearn.metrics import silhouette_score\n",
        "\n",
        "range_n_clusters = np.arange(2,10)\n",
        "silhouette_avg = []\n",
        "data_f = data.loc[:,['longitude','latitude']]\n",
        "for num_clusters in range_n_clusters:\n",
        "\n",
        "  # initialise kmeans\n",
        "  kmeans = KMeans(n_clusters=num_clusters)\n",
        "  kmeans.fit(data_f)\n",
        "  cluster_labels = kmeans.labels_\n",
        "\n",
        "  # silhouette score\n",
        "  silhouette_avg.append(silhouette_score(data_f, cluster_labels))\n",
        "\n",
        "plt.plot(range_n_clusters,silhouette_avg)\n",
        "plt.xlabel('Values of K')\n",
        "plt.ylabel('Silhouette score') \n",
        "plt.title('Silhouette analysis For Optimal k')\n",
        "plt.show()\n"
      ],
      "metadata": {
        "colab": {
          "base_uri": "https://localhost:8080/",
          "height": 295
        },
        "id": "t-UQilsvWetN",
        "outputId": "e09c9fa8-901b-47ab-e092-7d4089c2b5d1"
      },
      "execution_count": null,
      "outputs": [
        {
          "output_type": "display_data",
          "data": {
            "image/png": "[encoded data removed]",
            "text/plain": [
              "<Figure size 432x288 with 1 Axes>"
            ]
          },
          "metadata": {
            "needs_background": "light"
          }
        }
      ]
    },
    {
      "cell_type": "code",
      "source": [
        "optimal_n_clusters = range_n_clusters[np.argmax(silhouette_avg)]\n",
        "print(\"optimal_n_clusters\",optimal_n_clusters)"
      ],
      "metadata": {
        "colab": {
          "base_uri": "https://localhost:8080/"
        },
        "id": "DxgT_dH9bWyc",
        "outputId": "58048aab-e923-4ccc-ba3f-1bd550cc293f"
      },
      "execution_count": null,
      "outputs": [
        {
          "output_type": "stream",
          "name": "stdout",
          "text": [
            "optimal_n_clusters 8\n"
          ]
        }
      ]
    },
    {
      "cell_type": "code",
      "source": [
        "kmeans = KMeans(n_clusters=optimal_n_clusters, random_state=0)\n",
        "kmeans.fit(data_f)\n",
        "geoLoc=kmeans.labels_\n",
        "geoLoc.shape"
      ],
      "metadata": {
        "colab": {
          "base_uri": "https://localhost:8080/"
        },
        "id": "yVDjTM7HXgRY",
        "outputId": "ae23f6a5-c312-4a29-906d-f7a02a09bc8a"
      },
      "execution_count": null,
      "outputs": [
        {
          "output_type": "execute_result",
          "data": {
            "text/plain": [
              "(2870,)"
            ]
          },
          "metadata": {},
          "execution_count": 212
        }
      ]
    },
    {
      "cell_type": "code",
      "source": [
        "data['zone'] = geoLoc.tolist()"
      ],
      "metadata": {
        "id": "Ej9fxqXabFyJ"
      },
      "execution_count": null,
      "outputs": []
    },
    {
      "cell_type": "code",
      "source": [
        "data = pd.concat([data,pd.get_dummies(data['zone'],prefix='zone')],axis=1)\n",
        "\n",
        "# dropping the region columns from the dataframe\n",
        "data.drop(['latitude','longitude','zone'],axis=1, inplace=True)"
      ],
      "metadata": {
        "id": "CZ1VrbnjcQS7"
      },
      "execution_count": null,
      "outputs": []
    },
    {
      "cell_type": "code",
      "source": [
        "# output\n",
        "Y = data['yearly_availability']\n",
        "# input features variable\n",
        "X = data.loc[:, data.columns != 'yearly_availability']"
      ],
      "metadata": {
        "id": "MPJD52PGcbJd"
      },
      "execution_count": null,
      "outputs": []
    },
    {
      "cell_type": "markdown",
      "metadata": {
        "id": "ymsdDaIPIKSX"
      },
      "source": [
        "## Visualization, Modeling, Machine Learning\n",
        "\n",
        "Build a model that categorizes hotels on the basis of their yearly availability.  Identify how different features influence the decision. Please explain the findings effectively to technical and non-technical audiences using comments and visualizations, if appropriate.\n",
        "- **Build an optimized model that effectively solves the business problem.**\n",
        "- **The model will be evaluated on the basis of Accuracy.**\n",
        "- **Read the test.csv file and prepare features for testing.**"
      ]
    },
    {
      "cell_type": "code",
      "execution_count": null,
      "metadata": {
        "colab": {
          "base_uri": "https://localhost:8080/",
          "height": 270
        },
        "id": "Hsxh3SMgIKSY",
        "outputId": "963ec1eb-9f6c-44ac-a3d0-4e92a58a0ea1"
      },
      "outputs": [
        {
          "output_type": "execute_result",
          "data": {
            "text/html": [
              "\n",
              "  <div id=\"df-65ef77ce-f77d-4cdb-8753-95fbf64d99e3\">\n",
              "    <div class=\"colab-df-container\">\n",
              "      <div>\n",
              "<style scoped>\n",
              "    .dataframe tbody tr th:only-of-type {\n",
              "        vertical-align: middle;\n",
              "    }\n",
              "\n",
              "    .dataframe tbody tr th {\n",
              "        vertical-align: top;\n",
              "    }\n",
              "\n",
              "    .dataframe thead th {\n",
              "        text-align: right;\n",
              "    }\n",
              "</style>\n",
              "<table border=\"1\" class=\"dataframe\">\n",
              "  <thead>\n",
              "    <tr style=\"text-align: right;\">\n",
              "      <th></th>\n",
              "      <th>id</th>\n",
              "      <th>region</th>\n",
              "      <th>latitude</th>\n",
              "      <th>longitude</th>\n",
              "      <th>accommodation_type</th>\n",
              "      <th>cost</th>\n",
              "      <th>minimum_nights</th>\n",
              "      <th>number_of_reviews</th>\n",
              "      <th>reviews_per_month</th>\n",
              "      <th>owner_id</th>\n",
              "      <th>owned_hotels</th>\n",
              "    </tr>\n",
              "  </thead>\n",
              "  <tbody>\n",
              "    <tr>\n",
              "      <th>0</th>\n",
              "      <td>19215</td>\n",
              "      <td>Brooklyn</td>\n",
              "      <td>40.70912</td>\n",
              "      <td>-73.94513</td>\n",
              "      <td>Shared room</td>\n",
              "      <td>135</td>\n",
              "      <td>2</td>\n",
              "      <td>22</td>\n",
              "      <td>0.66</td>\n",
              "      <td>4360212</td>\n",
              "      <td>1</td>\n",
              "    </tr>\n",
              "    <tr>\n",
              "      <th>1</th>\n",
              "      <td>36301</td>\n",
              "      <td>Brooklyn</td>\n",
              "      <td>40.57646</td>\n",
              "      <td>-73.96641</td>\n",
              "      <td>Entire home/apt</td>\n",
              "      <td>69</td>\n",
              "      <td>2</td>\n",
              "      <td>8</td>\n",
              "      <td>0.90</td>\n",
              "      <td>181356989</td>\n",
              "      <td>2</td>\n",
              "    </tr>\n",
              "    <tr>\n",
              "      <th>2</th>\n",
              "      <td>40566</td>\n",
              "      <td>Manhattan</td>\n",
              "      <td>40.76616</td>\n",
              "      <td>-73.98228</td>\n",
              "      <td>Private room</td>\n",
              "      <td>225</td>\n",
              "      <td>30</td>\n",
              "      <td>0</td>\n",
              "      <td>NaN</td>\n",
              "      <td>13773574</td>\n",
              "      <td>12</td>\n",
              "    </tr>\n",
              "    <tr>\n",
              "      <th>3</th>\n",
              "      <td>33694</td>\n",
              "      <td>Manhattan</td>\n",
              "      <td>40.77668</td>\n",
              "      <td>-73.94587</td>\n",
              "      <td>Shared room</td>\n",
              "      <td>125</td>\n",
              "      <td>30</td>\n",
              "      <td>9</td>\n",
              "      <td>0.82</td>\n",
              "      <td>6788748</td>\n",
              "      <td>1</td>\n",
              "    </tr>\n",
              "    <tr>\n",
              "      <th>4</th>\n",
              "      <td>28873</td>\n",
              "      <td>Manhattan</td>\n",
              "      <td>40.80279</td>\n",
              "      <td>-73.94450</td>\n",
              "      <td>Entire home/apt</td>\n",
              "      <td>43</td>\n",
              "      <td>1</td>\n",
              "      <td>13</td>\n",
              "      <td>0.72</td>\n",
              "      <td>105061915</td>\n",
              "      <td>2</td>\n",
              "    </tr>\n",
              "  </tbody>\n",
              "</table>\n",
              "</div>\n",
              "      <button class=\"colab-df-convert\" onclick=\"convertToInteractive('df-65ef77ce-f77d-4cdb-8753-95fbf64d99e3')\"\n",
              "              title=\"Convert this dataframe to an interactive table.\"\n",
              "              style=\"display:none;\">\n",
              "        \n",
              "  <svg xmlns=\"http://www.w3.org/2000/svg\" height=\"24px\"viewBox=\"0 0 24 24\"\n",
              "       width=\"24px\">\n",
              "    <path d=\"M0 0h24v24H0V0z\" fill=\"none\"/>\n",
              "    <path d=\"M18.56 5.44l.94 2.06.94-2.06 2.06-.94-2.06-.94-.94-2.06-.94 2.06-2.06.94zm-11 1L8.5 8.5l.94-2.06 2.06-.94-2.06-.94L8.5 2.5l-.94 2.06-2.06.94zm10 10l.94 2.06.94-2.06 2.06-.94-2.06-.94-.94-2.06-.94 2.06-2.06.94z\"/><path d=\"M17.41 7.96l-1.37-1.37c-.4-.4-.92-.59-1.43-.59-.52 0-1.04.2-1.43.59L10.3 9.45l-7.72 7.72c-.78.78-.78 2.05 0 2.83L4 21.41c.39.39.9.59 1.41.59.51 0 1.02-.2 1.41-.59l7.78-7.78 2.81-2.81c.8-.78.8-2.07 0-2.86zM5.41 20L4 18.59l7.72-7.72 1.47 1.35L5.41 20z\"/>\n",
              "  </svg>\n",
              "      </button>\n",
              "      \n",
              "  <style>\n",
              "    .colab-df-container {\n",
              "      display:flex;\n",
              "      flex-wrap:wrap;\n",
              "      gap: 12px;\n",
              "    }\n",
              "\n",
              "    .colab-df-convert {\n",
              "      background-color: #E8F0FE;\n",
              "      border: none;\n",
              "      border-radius: 50%;\n",
              "      cursor: pointer;\n",
              "      display: none;\n",
              "      fill: #1967D2;\n",
              "      height: 32px;\n",
              "      padding: 0 0 0 0;\n",
              "      width: 32px;\n",
              "    }\n",
              "\n",
              "    .colab-df-convert:hover {\n",
              "      background-color: #E2EBFA;\n",
              "      box-shadow: 0px 1px 2px rgba(60, 64, 67, 0.3), 0px 1px 3px 1px rgba(60, 64, 67, 0.15);\n",
              "      fill: #174EA6;\n",
              "    }\n",
              "\n",
              "    [theme=dark] .colab-df-convert {\n",
              "      background-color: #3B4455;\n",
              "      fill: #D2E3FC;\n",
              "    }\n",
              "\n",
              "    [theme=dark] .colab-df-convert:hover {\n",
              "      background-color: #434B5C;\n",
              "      box-shadow: 0px 1px 3px 1px rgba(0, 0, 0, 0.15);\n",
              "      filter: drop-shadow(0px 1px 2px rgba(0, 0, 0, 0.3));\n",
              "      fill: #FFFFFF;\n",
              "    }\n",
              "  </style>\n",
              "\n",
              "      <script>\n",
              "        const buttonEl =\n",
              "          document.querySelector('#df-65ef77ce-f77d-4cdb-8753-95fbf64d99e3 button.colab-df-convert');\n",
              "        buttonEl.style.display =\n",
              "          google.colab.kernel.accessAllowed ? 'block' : 'none';\n",
              "\n",
              "        async function convertToInteractive(key) {\n",
              "          const element = document.querySelector('#df-65ef77ce-f77d-4cdb-8753-95fbf64d99e3');\n",
              "          const dataTable =\n",
              "            await google.colab.kernel.invokeFunction('convertToInteractive',\n",
              "                                                     [key], {});\n",
              "          if (!dataTable) return;\n",
              "\n",
              "          const docLinkHtml = 'Like what you see? Visit the ' +\n",
              "            '<a target=\"_blank\" href=https://colab.research.google.com/notebooks/data_table.ipynb>data table notebook</a>'\n",
              "            + ' to learn more about interactive tables.';\n",
              "          element.innerHTML = '';\n",
              "          dataTable['output_type'] = 'display_data';\n",
              "          await google.colab.output.renderOutput(dataTable, element);\n",
              "          const docLink = document.createElement('div');\n",
              "          docLink.innerHTML = docLinkHtml;\n",
              "          element.appendChild(docLink);\n",
              "        }\n",
              "      </script>\n",
              "    </div>\n",
              "  </div>\n",
              "  "
            ],
            "text/plain": [
              "      id     region  latitude  longitude accommodation_type  cost  \\\n",
              "0  19215   Brooklyn  40.70912  -73.94513        Shared room   135   \n",
              "1  36301   Brooklyn  40.57646  -73.96641    Entire home/apt    69   \n",
              "2  40566  Manhattan  40.76616  -73.98228       Private room   225   \n",
              "3  33694  Manhattan  40.77668  -73.94587        Shared room   125   \n",
              "4  28873  Manhattan  40.80279  -73.94450    Entire home/apt    43   \n",
              "\n",
              "   minimum_nights  number_of_reviews  reviews_per_month   owner_id  \\\n",
              "0               2                 22               0.66    4360212   \n",
              "1               2                  8               0.90  181356989   \n",
              "2              30                  0                NaN   13773574   \n",
              "3              30                  9               0.82    6788748   \n",
              "4               1                 13               0.72  105061915   \n",
              "\n",
              "   owned_hotels  \n",
              "0             1  \n",
              "1             2  \n",
              "2            12  \n",
              "3             1  \n",
              "4             2  "
            ]
          },
          "metadata": {},
          "execution_count": 216
        }
      ],
      "source": [
        "#Loading Test data\n",
        "test_data=pd.read_csv('test.csv')\n",
        "test_data.head()"
      ]
    },
    {
      "cell_type": "markdown",
      "metadata": {
        "id": "DwFA3-G8RSwA"
      },
      "source": [
        "#### Implementing same set of data processing as done in training set"
      ]
    },
    {
      "cell_type": "code",
      "source": [
        "geo_data_test = test_data.loc[:,['longitude','latitude']]\n",
        "geo_labels_test = kmeans.predict(geo_data_test)\n",
        "test_data['zone'] = geo_labels_test.tolist()\n",
        "test_data = pd.concat([test_data,pd.get_dummies(test_data['zone'],prefix='zone')],axis=1)\n",
        "test_data.drop(['latitude','longitude','zone'],axis=1, inplace=True)"
      ],
      "metadata": {
        "id": "f9P46x9kemRL"
      },
      "execution_count": null,
      "outputs": []
    },
    {
      "cell_type": "code",
      "source": [
        "test_data = pd.concat([test_data,pd.get_dummies(test_data['region'], prefix='region')],axis=1)\n",
        "test_data = pd.concat([test_data,pd.get_dummies(test_data['accommodation_type'])],axis=1)\n",
        "\n",
        "# since we have model by filling nan value with training data we have to fill nan value in testing data with the median of training data\n",
        "test_data['reviews_per_month'].fillna(X['reviews_per_month'].median(),inplace=True)\n",
        "X_test = test_data.drop(['id','owner_id','region','accommodation_type'],axis=1)"
      ],
      "metadata": {
        "id": "NeHtBZT4fNmJ"
      },
      "execution_count": null,
      "outputs": []
    },
    {
      "cell_type": "markdown",
      "metadata": {
        "id": "TfeHKe0NRSwA"
      },
      "source": [
        "Standardizing the data for better modeling"
      ]
    },
    {
      "cell_type": "code",
      "execution_count": null,
      "metadata": {
        "id": "zC1cGwLpRSwA"
      },
      "outputs": [],
      "source": [
        "from sklearn.preprocessing import StandardScaler\n",
        "\n",
        "# Adding Cross Validation Module\n",
        "from sklearn.model_selection import cross_val_score, cross_validate\n"
      ]
    },
    {
      "cell_type": "code",
      "execution_count": null,
      "metadata": {
        "id": "GGnEXc2QRSwA"
      },
      "outputs": [],
      "source": [
        "# Standardizing training data\n",
        "sc = StandardScaler()\n",
        "sc.fit(X)\n",
        "X_transformed=sc.transform(X)"
      ]
    },
    {
      "cell_type": "code",
      "execution_count": null,
      "metadata": {
        "colab": {
          "base_uri": "https://localhost:8080/"
        },
        "id": "0IX4tbFFRSwB",
        "outputId": "f9b92492-cf32-477a-dfea-cdca02163d80"
      },
      "outputs": [
        {
          "output_type": "stream",
          "name": "stderr",
          "text": [
            "/usr/local/lib/python3.7/dist-packages/sklearn/base.py:493: FutureWarning: The feature names should match those that were passed during fit. Starting version 1.2, an error will be raised.\n",
            "Feature names must be in the same order as they were in fit.\n",
            "\n",
            "  warnings.warn(message, FutureWarning)\n"
          ]
        }
      ],
      "source": [
        "# Standardizing testing data with respect to training data\n",
        "X_test = sc.transform(X_test)"
      ]
    },
    {
      "cell_type": "markdown",
      "metadata": {
        "id": "mBRiu5g3RSwB"
      },
      "source": [
        "#### Now we will be trying multiple classification techniques and select the most optimal model"
      ]
    },
    {
      "cell_type": "code",
      "execution_count": null,
      "metadata": {
        "colab": {
          "base_uri": "https://localhost:8080/"
        },
        "id": "73vBzp7lIKSf",
        "outputId": "a61cbe06-5231-4c1f-944d-ff8c2717cf7c"
      },
      "outputs": [
        {
          "output_type": "stream",
          "name": "stdout",
          "text": [
            "0.8738675958188153\n"
          ]
        }
      ],
      "source": [
        "# loading Logistic Regression Model for classification\n",
        "from sklearn.linear_model import LogisticRegression\n",
        "\n",
        "clf = LogisticRegression()\n",
        "print(cross_val_score(estimator=clf, X=X_transformed, y=Y, cv=7, n_jobs=4).mean())"
      ]
    },
    {
      "cell_type": "code",
      "execution_count": null,
      "metadata": {
        "colab": {
          "base_uri": "https://localhost:8080/"
        },
        "id": "7tBCHjd3IKSp",
        "outputId": "e48e6b2e-fd7c-4063-bd61-9bcff6e8ffc9"
      },
      "outputs": [
        {
          "output_type": "stream",
          "name": "stdout",
          "text": [
            "linear 0.8477351916376307\n",
            "rbf 0.8787456445993032\n",
            "poly 0.8717770034843205\n"
          ]
        }
      ],
      "source": [
        "# Using Support Vector Classifier (SVC) with kernels [linear,rbf, polynomial]\n",
        "from sklearn.svm import SVC\n",
        "\n",
        "# iterating over each kernel\n",
        "kernels = ['linear','rbf','poly']\n",
        "for kernel in kernels:\n",
        "    clf=SVC(kernel=kernel)\n",
        "    print(kernel,cross_val_score(estimator=clf, X=X_transformed, y=Y, cv=7, n_jobs=4).mean())"
      ]
    },
    {
      "cell_type": "code",
      "execution_count": null,
      "metadata": {
        "colab": {
          "base_uri": "https://localhost:8080/"
        },
        "id": "1Vk1EEy9IKSv",
        "outputId": "8e2cad34-f261-4f3c-c18c-08ad21bef395"
      },
      "outputs": [
        {
          "output_type": "stream",
          "name": "stdout",
          "text": [
            "for k= 1 : 0.870034843205575\n",
            "for k= 2 : 0.8515679442508711\n",
            "for k= 3 : 0.8853658536585367\n",
            "for k= 4 : 0.8811846689895472\n",
            "for k= 5 : 0.8926829268292683\n",
            "for k= 6 : 0.8811846689895472\n",
            "for k= 7 : 0.8857142857142858\n",
            "for k= 8 : 0.8787456445993032\n",
            "for k= 9 : 0.8874564459930313\n",
            "for k= 10 : 0.8822299651567944\n",
            "for k= 11 : 0.8853658536585367\n",
            "for k= 12 : 0.8777003484320558\n",
            "for k= 13 : 0.8794425087108014\n",
            "for k= 14 : 0.8763066202090591\n"
          ]
        }
      ],
      "source": [
        "# Using K Nearest neighbour technique\n",
        "from sklearn.neighbors import KNeighborsClassifier\n",
        "from sklearn import metrics\n",
        "\n",
        "scores = {}\n",
        "scores_list = []\n",
        "for k in range(1,15):\n",
        "   clf = KNeighborsClassifier(n_neighbors=k)\n",
        "   print(\"for k=\",k,\":\",cross_val_score(estimator=clf, X=X_transformed, y=Y, cv=7, n_jobs=4).mean())"
      ]
    },
    {
      "cell_type": "code",
      "execution_count": null,
      "metadata": {
        "colab": {
          "base_uri": "https://localhost:8080/"
        },
        "id": "nkQU41WSIKSz",
        "outputId": "2cb7a0f9-f9c9-4cad-bcc2-aa52d7f917de"
      },
      "outputs": [
        {
          "output_type": "stream",
          "name": "stdout",
          "text": [
            "0.932404181184669\n"
          ]
        }
      ],
      "source": [
        "# Using Random Forest Classifier \n",
        "from sklearn.ensemble import RandomForestClassifier\n",
        "\n",
        "clf=RandomForestClassifier()\n",
        "print(cross_val_score(estimator=clf, X=X_transformed, y=Y, cv=7, n_jobs=4).mean())"
      ]
    },
    {
      "cell_type": "markdown",
      "metadata": {
        "id": "i-aGdEqFRSwC"
      },
      "source": [
        "Now since we can see that Random Forest Classifier has the highest accuracy among all the classification techniques used. Hence we will go with this one."
      ]
    },
    {
      "cell_type": "markdown",
      "metadata": {
        "id": "MK_rdXETIKS4"
      },
      "source": [
        "\n",
        "\n",
        "**Highlight the most important features of the model for management.**\n",
        "\n",
        "> #### Task:\n",
        "- **Visualize the top 20 features and their feature importance.**\n"
      ]
    },
    {
      "cell_type": "code",
      "execution_count": null,
      "metadata": {
        "colab": {
          "base_uri": "https://localhost:8080/"
        },
        "id": "6_TsyvVeRSwC",
        "outputId": "17548b92-01d8-44c6-c3cb-ddc2eb693f42"
      },
      "outputs": [
        {
          "output_type": "execute_result",
          "data": {
            "text/plain": [
              "array([11, 10,  4,  3,  2,  0,  1, 12, 19, 15,  7,  8, 14, 18,  6,  5, 17,\n",
              "       13, 16, 20,  9])"
            ]
          },
          "metadata": {},
          "execution_count": 226
        }
      ],
      "source": [
        "clf.fit(X_transformed,Y)\n",
        "importances = clf.feature_importances_\n",
        "\n",
        "sorted_indices = np.argsort(importances)[::-1]\n",
        "sorted_indices"
      ]
    },
    {
      "cell_type": "code",
      "execution_count": null,
      "metadata": {
        "colab": {
          "base_uri": "https://localhost:8080/",
          "height": 297
        },
        "id": "HHFM3XPMIKS6",
        "outputId": "a67e21ab-5667-4006-db74-67ece09a6a70"
      },
      "outputs": [
        {
          "output_type": "display_data",
          "data": {
            "image/png": "[encoded data removed]",
            "text/plain": [
              "<Figure size 432x288 with 1 Axes>"
            ]
          },
          "metadata": {
            "needs_background": "light"
          }
        }
      ],
      "source": [
        "import matplotlib.pyplot as plt\n",
        " \n",
        "plt.title('Feature Importance')\n",
        "plt.bar(range(X.shape[1]), importances[sorted_indices], align='center')\n",
        "plt.xticks(range(X.shape[1]), X.columns[sorted_indices], rotation=90)\n",
        "plt.tight_layout()\n",
        "plt.show()"
      ]
    },
    {
      "cell_type": "markdown",
      "metadata": {
        "id": "UFogmgYZIKTE"
      },
      "source": [
        "> #### Task:\n",
        "- **Submit the predictions on the test dataset using your optimized model** <br/>\n",
        "    For each record in the test set (`test.csv`), predict the value of the `yearly_availability` variable. Submit a CSV file with a header row and one row per test entry.\n",
        "\n",
        "The file (`submissions.csv`) should have exactly 2 columns:\n",
        "   - **id**\n",
        "   - **yearly_availability**"
      ]
    },
    {
      "cell_type": "code",
      "execution_count": null,
      "metadata": {
        "id": "7xgNg25MIKTG"
      },
      "outputs": [],
      "source": [
        "y_pred = clf.predict(X_test)"
      ]
    },
    {
      "cell_type": "code",
      "execution_count": null,
      "metadata": {
        "colab": {
          "base_uri": "https://localhost:8080/"
        },
        "id": "-Djc6LF4RSwD",
        "outputId": "4ad1b1f7-2753-4120-b830-f9154c702b29"
      },
      "outputs": [
        {
          "output_type": "execute_result",
          "data": {
            "text/plain": [
              "(718,)"
            ]
          },
          "metadata": {},
          "execution_count": 229
        }
      ],
      "source": [
        "y_pred.shape"
      ]
    },
    {
      "cell_type": "code",
      "execution_count": null,
      "metadata": {
        "id": "OaxN7BjwIKTL"
      },
      "outputs": [],
      "source": [
        "submission_df = pd.DataFrame(columns=['id','yearly_availability'])\n",
        "submission_df['id'] = test_data['id']\n",
        "submission_df['yearly_availability'] = np.array(y_pred).tolist()"
      ]
    },
    {
      "cell_type": "code",
      "execution_count": null,
      "metadata": {
        "colab": {
          "base_uri": "https://localhost:8080/",
          "height": 206
        },
        "id": "R39-MBeqRSwD",
        "outputId": "55994d12-ba64-432e-df3d-a9dbb47e3fc4"
      },
      "outputs": [
        {
          "output_type": "execute_result",
          "data": {
            "text/html": [
              "\n",
              "  <div id=\"df-a4a7b431-d5e3-47b3-a335-81ad129a835b\">\n",
              "    <div class=\"colab-df-container\">\n",
              "      <div>\n",
              "<style scoped>\n",
              "    .dataframe tbody tr th:only-of-type {\n",
              "        vertical-align: middle;\n",
              "    }\n",
              "\n",
              "    .dataframe tbody tr th {\n",
              "        vertical-align: top;\n",
              "    }\n",
              "\n",
              "    .dataframe thead th {\n",
              "        text-align: right;\n",
              "    }\n",
              "</style>\n",
              "<table border=\"1\" class=\"dataframe\">\n",
              "  <thead>\n",
              "    <tr style=\"text-align: right;\">\n",
              "      <th></th>\n",
              "      <th>id</th>\n",
              "      <th>yearly_availability</th>\n",
              "    </tr>\n",
              "  </thead>\n",
              "  <tbody>\n",
              "    <tr>\n",
              "      <th>0</th>\n",
              "      <td>19215</td>\n",
              "      <td>0</td>\n",
              "    </tr>\n",
              "    <tr>\n",
              "      <th>1</th>\n",
              "      <td>36301</td>\n",
              "      <td>0</td>\n",
              "    </tr>\n",
              "    <tr>\n",
              "      <th>2</th>\n",
              "      <td>40566</td>\n",
              "      <td>1</td>\n",
              "    </tr>\n",
              "    <tr>\n",
              "      <th>3</th>\n",
              "      <td>33694</td>\n",
              "      <td>0</td>\n",
              "    </tr>\n",
              "    <tr>\n",
              "      <th>4</th>\n",
              "      <td>28873</td>\n",
              "      <td>0</td>\n",
              "    </tr>\n",
              "  </tbody>\n",
              "</table>\n",
              "</div>\n",
              "      <button class=\"colab-df-convert\" onclick=\"convertToInteractive('df-a4a7b431-d5e3-47b3-a335-81ad129a835b')\"\n",
              "              title=\"Convert this dataframe to an interactive table.\"\n",
              "              style=\"display:none;\">\n",
              "        \n",
              "  <svg xmlns=\"http://www.w3.org/2000/svg\" height=\"24px\"viewBox=\"0 0 24 24\"\n",
              "       width=\"24px\">\n",
              "    <path d=\"M0 0h24v24H0V0z\" fill=\"none\"/>\n",
              "    <path d=\"M18.56 5.44l.94 2.06.94-2.06 2.06-.94-2.06-.94-.94-2.06-.94 2.06-2.06.94zm-11 1L8.5 8.5l.94-2.06 2.06-.94-2.06-.94L8.5 2.5l-.94 2.06-2.06.94zm10 10l.94 2.06.94-2.06 2.06-.94-2.06-.94-.94-2.06-.94 2.06-2.06.94z\"/><path d=\"M17.41 7.96l-1.37-1.37c-.4-.4-.92-.59-1.43-.59-.52 0-1.04.2-1.43.59L10.3 9.45l-7.72 7.72c-.78.78-.78 2.05 0 2.83L4 21.41c.39.39.9.59 1.41.59.51 0 1.02-.2 1.41-.59l7.78-7.78 2.81-2.81c.8-.78.8-2.07 0-2.86zM5.41 20L4 18.59l7.72-7.72 1.47 1.35L5.41 20z\"/>\n",
              "  </svg>\n",
              "      </button>\n",
              "      \n",
              "  <style>\n",
              "    .colab-df-container {\n",
              "      display:flex;\n",
              "      flex-wrap:wrap;\n",
              "      gap: 12px;\n",
              "    }\n",
              "\n",
              "    .colab-df-convert {\n",
              "      background-color: #E8F0FE;\n",
              "      border: none;\n",
              "      border-radius: 50%;\n",
              "      cursor: pointer;\n",
              "      display: none;\n",
              "      fill: #1967D2;\n",
              "      height: 32px;\n",
              "      padding: 0 0 0 0;\n",
              "      width: 32px;\n",
              "    }\n",
              "\n",
              "    .colab-df-convert:hover {\n",
              "      background-color: #E2EBFA;\n",
              "      box-shadow: 0px 1px 2px rgba(60, 64, 67, 0.3), 0px 1px 3px 1px rgba(60, 64, 67, 0.15);\n",
              "      fill: #174EA6;\n",
              "    }\n",
              "\n",
              "    [theme=dark] .colab-df-convert {\n",
              "      background-color: #3B4455;\n",
              "      fill: #D2E3FC;\n",
              "    }\n",
              "\n",
              "    [theme=dark] .colab-df-convert:hover {\n",
              "      background-color: #434B5C;\n",
              "      box-shadow: 0px 1px 3px 1px rgba(0, 0, 0, 0.15);\n",
              "      filter: drop-shadow(0px 1px 2px rgba(0, 0, 0, 0.3));\n",
              "      fill: #FFFFFF;\n",
              "    }\n",
              "  </style>\n",
              "\n",
              "      <script>\n",
              "        const buttonEl =\n",
              "          document.querySelector('#df-a4a7b431-d5e3-47b3-a335-81ad129a835b button.colab-df-convert');\n",
              "        buttonEl.style.display =\n",
              "          google.colab.kernel.accessAllowed ? 'block' : 'none';\n",
              "\n",
              "        async function convertToInteractive(key) {\n",
              "          const element = document.querySelector('#df-a4a7b431-d5e3-47b3-a335-81ad129a835b');\n",
              "          const dataTable =\n",
              "            await google.colab.kernel.invokeFunction('convertToInteractive',\n",
              "                                                     [key], {});\n",
              "          if (!dataTable) return;\n",
              "\n",
              "          const docLinkHtml = 'Like what you see? Visit the ' +\n",
              "            '<a target=\"_blank\" href=https://colab.research.google.com/notebooks/data_table.ipynb>data table notebook</a>'\n",
              "            + ' to learn more about interactive tables.';\n",
              "          element.innerHTML = '';\n",
              "          dataTable['output_type'] = 'display_data';\n",
              "          await google.colab.output.renderOutput(dataTable, element);\n",
              "          const docLink = document.createElement('div');\n",
              "          docLink.innerHTML = docLinkHtml;\n",
              "          element.appendChild(docLink);\n",
              "        }\n",
              "      </script>\n",
              "    </div>\n",
              "  </div>\n",
              "  "
            ],
            "text/plain": [
              "      id  yearly_availability\n",
              "0  19215                    0\n",
              "1  36301                    0\n",
              "2  40566                    1\n",
              "3  33694                    0\n",
              "4  28873                    0"
            ]
          },
          "metadata": {},
          "execution_count": 231
        }
      ],
      "source": [
        "submission_df.head()"
      ]
    },
    {
      "cell_type": "code",
      "execution_count": null,
      "metadata": {
        "id": "nBRVPrYbIKTQ"
      },
      "outputs": [],
      "source": [
        "#Submission\n",
        "submission_df.to_csv('submissions.csv',index=False)"
      ]
    },
    {
      "cell_type": "markdown",
      "metadata": {
        "id": "H_pB8zTcIKTW"
      },
      "source": [
        "---"
      ]
    }
  ],
  "metadata": {
    "colab": {
      "collapsed_sections": [],
      "name": "Questions (1).ipynb",
      "provenance": [],
      "include_colab_link": true
    },
    "kernelspec": {
      "display_name": "Python 3",
      "language": "python",
      "name": "python3"
    },
    "language_info": {
      "codemirror_mode": {
        "name": "ipython",
        "version": 3
      },
      "file_extension": ".py",
      "mimetype": "text/x-python",
      "name": "python",
      "nbconvert_exporter": "python",
      "pygments_lexer": "ipython3",
      "version": "3.7.8"
    },
    "toc": {
      "base_numbering": 1,
      "nav_menu": {},
      "number_sections": true,
      "sideBar": true,
      "skip_h1_title": false,
      "title_cell": "Table of Contents",
      "title_sidebar": "Contents",
      "toc_cell": false,
      "toc_position": {},
      "toc_section_display": true,
      "toc_window_display": false
    }
  },
  "nbformat": 4,
  "nbformat_minor": 0
}